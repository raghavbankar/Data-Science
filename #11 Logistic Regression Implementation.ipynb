{
 "cells": [
  {
   "cell_type": "markdown",
   "metadata": {},
   "source": [
    "## Logistic Regression Implementation"
   ]
  },
  {
   "cell_type": "markdown",
   "metadata": {},
   "source": [
    "Logistic regression is used for binary classification where we use sigmoid function, that takes input as independent variables and produces a probability value between 0 and 1."
   ]
  },
  {
   "cell_type": "code",
   "execution_count": 56,
   "metadata": {},
   "outputs": [],
   "source": [
    "import pandas as pd\n",
    "import numpy as np\n",
    "import matplotlib.pyplot as plt\n",
    "import seaborn as sns\n",
    "%matplotlib inline"
   ]
  },
  {
   "cell_type": "code",
   "execution_count": 57,
   "metadata": {},
   "outputs": [],
   "source": [
    "from sklearn.datasets import make_classification"
   ]
  },
  {
   "cell_type": "code",
   "execution_count": 58,
   "metadata": {},
   "outputs": [],
   "source": [
    "## create the dataset\n",
    "X, y = make_classification(n_samples=1000, n_features=10, n_classes=2, random_state=15)"
   ]
  },
  {
   "cell_type": "code",
   "execution_count": 59,
   "metadata": {},
   "outputs": [],
   "source": [
    "from sklearn.model_selection import train_test_split\n",
    "X_train,X_test,y_train,y_test=train_test_split(X,y,test_size=0.30,random_state=42)"
   ]
  },
  {
   "cell_type": "code",
   "execution_count": 60,
   "metadata": {},
   "outputs": [
    {
     "name": "stdout",
     "output_type": "stream",
     "text": [
      "[0 0 0 1 1 0 0 1 1 1 1 0 1 0 1 0 0 1 0 1 1 1 1 0 0 0 0 0 0 1 1 0 1 1 1 0 1\n",
      " 1 0 0 0 0 0 1 0 1 1 1 1 0 1 1 1 1 1 1 1 0 1 0 1 0 0 0 1 1 0 0 1 0 0 0 1 0\n",
      " 1 0 1 0 0 0 0 0 0 0 1 0 1 0 0 1 1 1 0 1 1 1 0 1 1 1 1 0 0 0 0 0 1 0 0 0 1\n",
      " 1 0 0 0 0 0 1 0 0 1 0 0 0 0 0 0 0 0 1 1 0 1 0 0 1 1 0 0 1 1 1 1 0 0 0 1 1\n",
      " 0 1 0 0 1 0 0 0 1 1 0 1 0 0 0 1 0 1 1 0 0 1 0 1 1 0 1 1 0 0 1 1 0 1 0 1 0\n",
      " 0 1 1 0 1 1 1 1 0 1 1 1 1 1 0 1 1 0 1 0 0 1 0 1 0 1 1 0 1 0 1 0 0 0 0 0 0\n",
      " 0 1 0 0 0 0 0 1 0 1 0 0 1 0 1 1 0 0 1 1 1 0 1 1 0 0 1 1 0 1 1 0 0 1 0 0 1\n",
      " 0 0 1 0 1 0 1 0 0 1 1 0 0 1 1 0 1 1 1 0 1 1 0 0 0 1 0 0 0 1 0 0 1 0 1 0 1\n",
      " 0 1 0 0]\n"
     ]
    }
   ],
   "source": [
    "from sklearn.linear_model import LogisticRegression\n",
    "\n",
    "logistic=LogisticRegression()\n",
    "logistic.fit(X_train,y_train)\n",
    "y_pred=logistic.predict(X_test)\n",
    "print(y_pred)"
   ]
  },
  {
   "cell_type": "code",
   "execution_count": 61,
   "metadata": {},
   "outputs": [],
   "source": [
    "from sklearn.metrics import accuracy_score,classification_report,confusion_matrix"
   ]
  },
  {
   "cell_type": "code",
   "execution_count": 62,
   "metadata": {},
   "outputs": [
    {
     "name": "stdout",
     "output_type": "stream",
     "text": [
      "0.9166666666666666\n",
      "              precision    recall  f1-score   support\n",
      "\n",
      "           0       0.93      0.91      0.92       160\n",
      "           1       0.90      0.92      0.91       140\n",
      "\n",
      "    accuracy                           0.92       300\n",
      "   macro avg       0.92      0.92      0.92       300\n",
      "weighted avg       0.92      0.92      0.92       300\n",
      "\n",
      "[[146  14]\n",
      " [ 11 129]]\n"
     ]
    }
   ],
   "source": [
    "score=accuracy_score(y_pred,y_test)\n",
    "print(score)\n",
    "print(classification_report(y_pred,y_test))\n",
    "print(confusion_matrix(y_pred,y_test))"
   ]
  },
  {
   "cell_type": "markdown",
   "metadata": {},
   "source": [
    "## Poisson regression"
   ]
  },
  {
   "cell_type": "markdown",
   "metadata": {},
   "source": [
    "Poisson regression is used\n",
    "when you want to predict a count of events, such as how many times a customer\n",
    "will contact customer service. The distribution of the response variable will be a\n",
    "count of occurrences, with a minimum value of zero."
   ]
  },
  {
   "cell_type": "code",
   "execution_count": 63,
   "metadata": {},
   "outputs": [
    {
     "name": "stdout",
     "output_type": "stream",
     "text": [
      "[0.91192972 1.81324689 2.11818008 1.45316165 2.70938243 0.37677568\n",
      " 1.56108757 1.23863892 0.49967827 0.68446422 0.55056678 1.15951036\n",
      " 1.71698735 0.53873032 1.26577774 0.8445248  1.15752823 0.99234089\n",
      " 0.89551128 0.55749697 0.39435651 1.80231787 1.1881313  0.50220063\n",
      " 2.60631444 0.66843498 1.1830889  0.49919465 1.28853082 1.38412766\n",
      " 1.37465903 0.93800092 0.95781677 0.53191919 1.12025881 0.83422756\n",
      " 1.21088611 1.57435227 0.77454169 1.33101769 1.20760585 0.55123957\n",
      " 0.5535275  1.48880449 0.37501084 0.63063606 0.92720444 0.87111508\n",
      " 0.95128169 1.10063206 0.77491831 0.62684864 1.10508276 0.92060927\n",
      " 1.0288878  1.44409621 0.69410557 1.60287372 1.22167587 1.04127756\n",
      " 0.96440397 0.45989066 0.55944357 0.56530077 1.62047894 0.66034175\n",
      " 0.84858239 1.97966357 0.5001123  0.91405224 0.91812563 0.93591378\n",
      " 1.06809927 0.85179632 1.62815492 0.63900521 1.00688546 1.06121923\n",
      " 1.06469166 1.01507582 0.78573581 2.14284804 1.45117243 1.33396515\n",
      " 1.29143136 3.17050431 2.13000508 0.93113608 0.92482176 0.82034885\n",
      " 1.38159908 1.34429211 1.08596411 2.0431798  0.93674369 1.32983356\n",
      " 0.77095715 1.32434471 0.49440812 0.7174417 ]\n"
     ]
    }
   ],
   "source": [
    "import numpy as np\n",
    "import pandas as pd\n",
    "import statsmodels.api as sm\n",
    "from sklearn.linear_model import PoissonRegressor\n",
    "\n",
    "# Example synthetic data (you can replace this with your actual dataset)\n",
    "np.random.seed(0)\n",
    "\n",
    "# Independent variables (e.g., predictors)\n",
    "X1 = np.random.normal(0, 1, 100)  # Predictor 1\n",
    "X2 = np.random.normal(5, 2, 100)  # Predictor 2\n",
    "\n",
    "# Dependent variable (count data, following a Poisson distribution)\n",
    "lambda_ = np.exp(1 + 0.5 * X1 - 0.2 * X2)  # Rate (λ) for Poisson\n",
    "y = np.random.poisson(lambda_)\n",
    "\n",
    "# Create a DataFrame to hold the data\n",
    "data = pd.DataFrame({'X1': X1, 'X2': X2, 'y': y})\n",
    "\n",
    "# Add an intercept column (constant term)\n",
    "X = sm.add_constant(data[['X1', 'X2']])\n",
    "\n",
    "# Fit the Poisson regression model\n",
    "poisson_model = PoissonRegressor().fit(X,y)\n",
    "\n",
    "# Making predictions using the fitted model\n",
    "predictions = poisson_model.predict(X)\n",
    "\n",
    "# Display the first few predictions\n",
    "print(predictions)"
   ]
  },
  {
   "cell_type": "markdown",
   "metadata": {},
   "source": []
  },
  {
   "cell_type": "markdown",
   "metadata": {},
   "source": []
  },
  {
   "cell_type": "markdown",
   "metadata": {},
   "source": []
  },
  {
   "cell_type": "markdown",
   "metadata": {},
   "source": []
  }
 ],
 "metadata": {
  "kernelspec": {
   "display_name": "venv",
   "language": "python",
   "name": "python3"
  },
  "language_info": {
   "codemirror_mode": {
    "name": "ipython",
    "version": 3
   },
   "file_extension": ".py",
   "mimetype": "text/x-python",
   "name": "python",
   "nbconvert_exporter": "python",
   "pygments_lexer": "ipython3",
   "version": "3.10.0"
  }
 },
 "nbformat": 4,
 "nbformat_minor": 4
}
