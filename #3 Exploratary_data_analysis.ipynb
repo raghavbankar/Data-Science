{
 "cells": [
  {
   "cell_type": "markdown",
   "metadata": {},
   "source": [
    "## Exploratory Data Analysis"
   ]
  },
  {
   "cell_type": "code",
   "execution_count": 8,
   "metadata": {},
   "outputs": [],
   "source": [
    "# importing libraries\n",
    "\n",
    "import matplotlib.pyplot as plt\n",
    "import pandas as pd"
   ]
  },
  {
   "cell_type": "code",
   "execution_count": 9,
   "metadata": {},
   "outputs": [
    {
     "data": {
      "text/html": [
       "<div>\n",
       "<style scoped>\n",
       "    .dataframe tbody tr th:only-of-type {\n",
       "        vertical-align: middle;\n",
       "    }\n",
       "\n",
       "    .dataframe tbody tr th {\n",
       "        vertical-align: top;\n",
       "    }\n",
       "\n",
       "    .dataframe thead th {\n",
       "        text-align: right;\n",
       "    }\n",
       "</style>\n",
       "<table border=\"1\" class=\"dataframe\">\n",
       "  <thead>\n",
       "    <tr style=\"text-align: right;\">\n",
       "      <th></th>\n",
       "      <th>ID</th>\n",
       "      <th>Name</th>\n",
       "      <th>Age</th>\n",
       "      <th>Gender</th>\n",
       "      <th>Income</th>\n",
       "      <th>City</th>\n",
       "    </tr>\n",
       "  </thead>\n",
       "  <tbody>\n",
       "    <tr>\n",
       "      <th>0</th>\n",
       "      <td>1</td>\n",
       "      <td>Alice</td>\n",
       "      <td>25</td>\n",
       "      <td>Female</td>\n",
       "      <td>50000.0</td>\n",
       "      <td>New York</td>\n",
       "    </tr>\n",
       "    <tr>\n",
       "      <th>1</th>\n",
       "      <td>2</td>\n",
       "      <td>Bob</td>\n",
       "      <td>30</td>\n",
       "      <td>Male</td>\n",
       "      <td>60000.0</td>\n",
       "      <td>Los Angeles</td>\n",
       "    </tr>\n",
       "    <tr>\n",
       "      <th>2</th>\n",
       "      <td>3</td>\n",
       "      <td>Charlie</td>\n",
       "      <td>35</td>\n",
       "      <td>Male</td>\n",
       "      <td>80000.0</td>\n",
       "      <td>Chicago</td>\n",
       "    </tr>\n",
       "    <tr>\n",
       "      <th>3</th>\n",
       "      <td>4</td>\n",
       "      <td>David</td>\n",
       "      <td>45</td>\n",
       "      <td>Male</td>\n",
       "      <td>45000.0</td>\n",
       "      <td>New York</td>\n",
       "    </tr>\n",
       "    <tr>\n",
       "      <th>4</th>\n",
       "      <td>5</td>\n",
       "      <td>Eva</td>\n",
       "      <td>29</td>\n",
       "      <td>Female</td>\n",
       "      <td>NaN</td>\n",
       "      <td>San Francisco</td>\n",
       "    </tr>\n",
       "    <tr>\n",
       "      <th>5</th>\n",
       "      <td>6</td>\n",
       "      <td>Frank</td>\n",
       "      <td>50</td>\n",
       "      <td>Male</td>\n",
       "      <td>200000.0</td>\n",
       "      <td>Houston</td>\n",
       "    </tr>\n",
       "    <tr>\n",
       "      <th>6</th>\n",
       "      <td>7</td>\n",
       "      <td>Grace</td>\n",
       "      <td>27</td>\n",
       "      <td>Female</td>\n",
       "      <td>75000.0</td>\n",
       "      <td>Miami</td>\n",
       "    </tr>\n",
       "    <tr>\n",
       "      <th>7</th>\n",
       "      <td>8</td>\n",
       "      <td>Hank</td>\n",
       "      <td>32</td>\n",
       "      <td>Male</td>\n",
       "      <td>70000.0</td>\n",
       "      <td>Boston</td>\n",
       "    </tr>\n",
       "    <tr>\n",
       "      <th>8</th>\n",
       "      <td>9</td>\n",
       "      <td>Ivy</td>\n",
       "      <td>28</td>\n",
       "      <td>Female</td>\n",
       "      <td>85000.0</td>\n",
       "      <td>Seattle</td>\n",
       "    </tr>\n",
       "    <tr>\n",
       "      <th>9</th>\n",
       "      <td>10</td>\n",
       "      <td>Jack</td>\n",
       "      <td>40</td>\n",
       "      <td>Male</td>\n",
       "      <td>300000.0</td>\n",
       "      <td>Los Angeles</td>\n",
       "    </tr>\n",
       "  </tbody>\n",
       "</table>\n",
       "</div>"
      ],
      "text/plain": [
       "   ID     Name  Age  Gender    Income           City\n",
       "0   1    Alice   25  Female   50000.0       New York\n",
       "1   2      Bob   30    Male   60000.0    Los Angeles\n",
       "2   3  Charlie   35    Male   80000.0        Chicago\n",
       "3   4    David   45    Male   45000.0       New York\n",
       "4   5      Eva   29  Female       NaN  San Francisco\n",
       "5   6    Frank   50    Male  200000.0        Houston\n",
       "6   7    Grace   27  Female   75000.0          Miami\n",
       "7   8     Hank   32    Male   70000.0         Boston\n",
       "8   9      Ivy   28  Female   85000.0        Seattle\n",
       "9  10     Jack   40    Male  300000.0    Los Angeles"
      ]
     },
     "execution_count": 9,
     "metadata": {},
     "output_type": "execute_result"
    }
   ],
   "source": [
    "data=pd.read_csv('Dataset.csv')\n",
    "data['Gender']= data['Gender'].replace({'M':'Male','F':'Female'})\n",
    "data"
   ]
  },
  {
   "cell_type": "markdown",
   "metadata": {},
   "source": [
    "How to Construct a Bar Graph with Overlay Using Python\n",
    "\n",
    "The pictorial representation of grouped data, in the form of vertical or horizontal rectangular bars"
   ]
  },
  {
   "cell_type": "code",
   "execution_count": 11,
   "metadata": {},
   "outputs": [
    {
     "data": {
      "image/png": "[encoded data removed]",
      "text/plain": [
       "<Figure size 640x480 with 1 Axes>"
      ]
     },
     "metadata": {},
     "output_type": "display_data"
    }
   ],
   "source": [
    "\n",
    "##create a bar plot\n",
    "plt.bar(data['City'],data['Income'],color='purple')\n",
    "plt.xlabel('City')\n",
    "plt.ylabel('Income')\n",
    "plt.title('Bar Plot')\n",
    "plt.show()"
   ]
  },
  {
   "cell_type": "markdown",
   "metadata": {},
   "source": [
    "How to Construct Contingency Tables Using Python\n",
    "\n",
    "A contingency table displays frequencies for combinations of two categorical variables. "
   ]
  },
  {
   "cell_type": "code",
   "execution_count": 12,
   "metadata": {},
   "outputs": [
    {
     "name": "stdout",
     "output_type": "stream",
     "text": [
      "City    Boston  Chicago  Houston  Los Angeles  Miami  New York  San Francisco  \\\n",
      "Gender                                                                          \n",
      "Female       0        0        0            0      1         1              1   \n",
      "Male         1        1        1            2      0         1              0   \n",
      "\n",
      "City    Seattle  \n",
      "Gender           \n",
      "Female        1  \n",
      "Male          0  \n"
     ]
    }
   ],
   "source": [
    "contingency_table = pd.crosstab(data['Gender'], data['City'])\n",
    "print(contingency_table)"
   ]
  },
  {
   "cell_type": "markdown",
   "metadata": {},
   "source": [
    "How to Construct Histograms with Overlay Using Python\n",
    "\n",
    "Histogram is a graphical representation used in statistics to show the distribution of numerical data.\n",
    "Histograms are designed for continuous data, grouping it into logical ranges or \"bins.\""
   ]
  },
  {
   "cell_type": "code",
   "execution_count": 13,
   "metadata": {},
   "outputs": [
    {
     "data": {
      "text/plain": [
       "(array([4., 2., 1., 1., 2.]),\n",
       " array([25., 30., 35., 40., 45., 50.]),\n",
       " <BarContainer object of 5 artists>)"
      ]
     },
     "execution_count": 13,
     "metadata": {},
     "output_type": "execute_result"
    },
    {
     "data": {
      "image/png": "[encoded data removed]",
      "text/plain": [
       "<Figure size 640x480 with 1 Axes>"
      ]
     },
     "metadata": {},
     "output_type": "display_data"
    }
   ],
   "source": [
    "\n",
    "plt.hist(data['Age'],bins=5,color='orange',edgecolor='black')"
   ]
  },
  {
   "cell_type": "markdown",
   "metadata": {},
   "source": [
    "How to Perform Binning Based on Predictive Value Using Python\n",
    "\n",
    "Data binning, bucketing is a data pre-processing method used to minimize the effects of small observation errors. The original data values are divided into small intervals known as bins and then they are replaced by a general value calculated for that bin."
   ]
  },
  {
   "cell_type": "code",
   "execution_count": 14,
   "metadata": {},
   "outputs": [
    {
     "name": "stdout",
     "output_type": "stream",
     "text": [
      "   ID     Name  Age  Gender    Income           City AgeGroup\n",
      "0   1    Alice   25  Female   50000.0       New York    20-30\n",
      "1   2      Bob   30    Male   60000.0    Los Angeles    20-30\n",
      "2   3  Charlie   35    Male   80000.0        Chicago    30-40\n",
      "3   4    David   45    Male   45000.0       New York    40-50\n",
      "4   5      Eva   29  Female       NaN  San Francisco    20-30\n",
      "5   6    Frank   50    Male  200000.0        Houston    40-50\n",
      "6   7    Grace   27  Female   75000.0          Miami    20-30\n",
      "7   8     Hank   32    Male   70000.0         Boston    30-40\n",
      "8   9      Ivy   28  Female   85000.0        Seattle    20-30\n",
      "9  10     Jack   40    Male  300000.0    Los Angeles    30-40\n"
     ]
    }
   ],
   "source": [
    "\n",
    "# Perform binning\n",
    "data['AgeGroup'] = pd.cut(data['Age'], bins=[20, 30, 40, 50], labels=['20-30', '30-40', '40-50'])\n",
    "\n",
    "print(data)\n"
   ]
  }
 ],
 "metadata": {
  "kernelspec": {
   "display_name": "venv",
   "language": "python",
   "name": "python3"
  },
  "language_info": {
   "codemirror_mode": {
    "name": "ipython",
    "version": 3
   },
   "file_extension": ".py",
   "mimetype": "text/x-python",
   "name": "python",
   "nbconvert_exporter": "python",
   "pygments_lexer": "ipython3",
   "version": "3.10.0"
  }
 },
 "nbformat": 4,
 "nbformat_minor": 2
}
